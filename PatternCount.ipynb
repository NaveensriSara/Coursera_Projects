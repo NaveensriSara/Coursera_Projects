{
 "cells": [
  {
   "cell_type": "code",
   "execution_count": 6,
   "metadata": {},
   "outputs": [],
   "source": [
    "#to process a dataset and count the number of patterns in a text\n",
    "def CountPattern(Text,Pattern):\n",
    "    count =0 \n",
    "    for i in range(len(Text)-len(Pattern)+1):\n",
    "        if Text[i:i+len(Pattern)]== Pattern:\n",
    "            count += 1\n",
    "    return count"
   ]
  },
  {
   "cell_type": "code",
   "execution_count": 8,
   "metadata": {},
   "outputs": [
    {
     "data": {
      "text/plain": [
       "33"
      ]
     },
     "execution_count": 8,
     "metadata": {},
     "output_type": "execute_result"
    }
   ],
   "source": [
    "#Run the actual function with the text file \n",
    "Text= 'TGGGAGGCGTCCAGGCGTCCAGGCGTCCTTATCAGGCGTCCAGGCGTCAGAGGCGTCTAGGCGTCGAAGGCGTCTTGACTAGGCGTCGAGGCGTCAGGAGGCGTCGGAGGCGTCAGGCGTCAGGCGTCAGGCGTCTCGATCTAGGCGTCAGGCGTCGAAGTAGGCGTCTAGGCGTCGAGGCGTCAGGCGTCCAGGCGTCACCTACTTATAGGCGTCAGGCGTCTTAGGCGTCCTGTAGGCGTCGAGGCGTCACAGGCGTCCCAGGCGTCGCGTTAGGCGTCAGGCGTCAGGCGTCTAGGCGTCCCGAGGCGTCTAGGCGTCCCCCGTCTCAGGCGTCAGGCGTCAGGCGTCCACGCAGGCGTCAGGCGTCGTGAGGCGTCTCGGATAACGATAGGCGTCTCGTGAGGCGTCAGGCGTCCACAGAGGCGTCCAGGCGTCAGGCGTCAGTCCCTTTAGGCGTCCCTGAGGCGTCCTGAACATGACAGGCGTCAGGCGTCTTGGGCGAGGCGTCATAGGCGTCGAGGCGTCTGGCAGTTAAGGCGTCAGCTCGAGGCGTCAAGGCGTCAGGGCAGGCGTCAGGCGTCACATATAGGCGTCCAGGCGTCAGGCGTCGACAAAGGAGAAGGCGTCAGGCGTCCTTATAAATAGGCGTCCGGCTAGGCGTCTGAGGCGTCTAGGCGTCTTGGAGGCGTCGTGGGTAAGGCGTCGTGTAGGCGTCAGGCGTCAGTGCCGAGGCGTCTAGGCGTCAGGCGTCGAGGCGTCAGGCGTCGACAGGCGTCAGGCGTCAGGCGTCAGAGGCGTCATAGGCGTCTTAGGCGTCTGGTACTGAGAGGCGTCAGGCGTCAGGCGTCCGAGAAGGCGTCGAGGCGTCTAGGCGTCAGGCGTCGCGAAGGCGTCTTTTGAGGCGTCGAGGCGTCAATAGGCGTCAGGCGTCCTATAGGCGTCTAAGGCGTCACGGGTT'\n",
    "\n",
    "Pattern= 'AGGCGTCAG'\n",
    "CountPattern(Text,Pattern)"
   ]
  }
 ],
 "metadata": {
  "kernelspec": {
   "display_name": "Python 3",
   "language": "python",
   "name": "python3"
  },
  "language_info": {
   "codemirror_mode": {
    "name": "ipython",
    "version": 3
   },
   "file_extension": ".py",
   "mimetype": "text/x-python",
   "name": "python",
   "nbconvert_exporter": "python",
   "pygments_lexer": "ipython3",
   "version": "3.10.5"
  }
 },
 "nbformat": 4,
 "nbformat_minor": 2
}
